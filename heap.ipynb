{
  "cells": [
    {
      "cell_type": "markdown",
      "metadata": {
        "id": "view-in-github",
        "colab_type": "text"
      },
      "source": [
        "<a href=\"https://colab.research.google.com/github/Yab112/Competitive-Programming/blob/main/heap.ipynb\" target=\"_parent\"><img src=\"https://colab.research.google.com/assets/colab-badge.svg\" alt=\"Open In Colab\"/></a>"
      ]
    },
    {
      "cell_type": "code",
      "source": [
        "class MinHip:\n",
        "  def __init__(self,capacity):\n",
        "    self.capacity= [0]*capacity\n",
        "    self.capacity = capacity\n",
        "    self.size = 0\n",
        "   \n",
        "  def getparenetindex(self,index):\n",
        "    return index-1//2\n",
        "  def getleftchildindex(self,index):\n",
        "    return (index*2+1)\n",
        "  def getrightchildindex(self,index):\n",
        "    return (index*2+2)\n",
        "  \n",
        "  def hasparent(self,index):\n",
        "    return self.getparentinidex(index) >= 0\n",
        "  def  hasleftchild(self,index):\n",
        "    return self.getleftchildindex(index) <self.size\n",
        "  def hasrightchild(self,index):\n",
        "    return self.getrightchildindex(self,index) < self.size\n",
        "  def parent(self,index):\n",
        "    self.storage[self.getparentinidex(index)] \n",
        "  def leftchild(self,index):\n",
        "    self.storage[getleftchildindex(index)]\n",
        "  def hasrightchild(self,index):\n",
        "    self.storage[getrightchildindex(self,index)]\n",
        "  def  isfull(self,idex):\n",
        "    return (self.size == self.capacity)\n",
        "  def swap(self,index1,index2):\n",
        "    temp = self.storage[index1]\n",
        "    self.storage[index1] = self.storage[index2]\n",
        "    self.storage[index2]=temp\n",
        "  def  insert(self,data):\n",
        "    if(self.iffull()):\n",
        "      raise(\"heap is full\")\n",
        "    self.storage[self.size]=data\n",
        "    self.size += 1\n",
        "    self.heapifyup()\n",
        "  def heapifyup(self):\n",
        "    index = self.size - 1\n",
        "    while(self.hasparent(index) and self.parent(index) > self.storage(index):\n",
        "      self.swap(self.getparent(index),index)\n",
        "  \n",
        " \n",
        "\n"
      ],
      "metadata": {
        "id": "fV_LRZwm2LoH"
      },
      "execution_count": null,
      "outputs": []
    },
    {
      "cell_type": "markdown",
      "source": [
        "# New Section"
      ],
      "metadata": {
        "id": "osfP8za03DpD"
      }
    },
    {
      "cell_type": "markdown",
      "source": [
        "# New Section"
      ],
      "metadata": {
        "id": "VbgIH_q_3Ep1"
      }
    }
  ],
  "metadata": {
    "colab": {
      "name": "Welcome To Colaboratory",
      "toc_visible": true,
      "provenance": [],
      "include_colab_link": true
    },
    "kernelspec": {
      "display_name": "Python 3",
      "name": "python3"
    }
  },
  "nbformat": 4,
  "nbformat_minor": 0
}