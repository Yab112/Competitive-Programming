{
  "nbformat": 4,
  "nbformat_minor": 0,
  "metadata": {
    "colab": {
      "provenance": [],
      "authorship_tag": "ABX9TyN6fBgorMHpR4cQRRl6gPeg",
      "include_colab_link": true
    },
    "kernelspec": {
      "name": "python3",
      "display_name": "Python 3"
    },
    "language_info": {
      "name": "python"
    }
  },
  "cells": [
    {
      "cell_type": "markdown",
      "metadata": {
        "id": "view-in-github",
        "colab_type": "text"
      },
      "source": [
        "<a href=\"https://colab.research.google.com/github/Yab112/Competitive-Programming/blob/main/graph.ipynb\" target=\"_parent\"><img src=\"https://colab.research.google.com/assets/colab-badge.svg\" alt=\"Open In Colab\"/></a>"
      ]
    },
    {
      "cell_type": "code",
      "execution_count": 1,
      "metadata": {
        "colab": {
          "base_uri": "https://localhost:8080/"
        },
        "id": "nFd4RALE66Ew",
        "outputId": "61df70a7-beeb-4e68-b5e5-c4b88b37016e"
      },
      "outputs": [
        {
          "output_type": "stream",
          "name": "stdout",
          "text": [
            "a : []\n",
            "b : []\n",
            "f : []\n",
            "g : []\n",
            "All test cases passed\n",
            "a : []\n",
            "b : []\n",
            "f : []\n",
            "g : []\n",
            "x : ['y']\n",
            "y : ['x']\n"
          ]
        }
      ],
      "source": [
        "class Graph:\n",
        "    def __init__(self):\n",
        "        self.adj_list = {}\n",
        "\n",
        "    def add_vertex(self, vertex):\n",
        "        for v in vertex:\n",
        "            if v not in self.adj_list:\n",
        "                self.adj_list[v] = []\n",
        "\n",
        "    def add_edge(self, *edge):\n",
        "        for i in range(len(edge) - 1):\n",
        "            a, b = edge[i], edge[i+1]\n",
        "            if a not in self.adj_list:\n",
        "                self.adj_list[a] = []\n",
        "            self.adj_list[a].append(b)\n",
        "            if b not in self.adj_list:\n",
        "                self.adj_list[b] = []\n",
        "            self.adj_list[b].append(a)\n",
        "\n",
        "    def remove_vertex(self, vertex):\n",
        "        if vertex in self.adj_list:\n",
        "            del self.adj_list[vertex]\n",
        "            for neighbor in self.adj_list:\n",
        "                if vertex in self.adj_list[neighbor]:\n",
        "                    self.adj_list[neighbor].remove(vertex)\n",
        "\n",
        "    def remove_edge(self, vertex1, vertex2):\n",
        "        if vertex1 in self.adj_list and vertex2 in self.adj_list:\n",
        "            if vertex2 in self.adj_list[vertex1]:\n",
        "                self.adj_list[vertex1].remove(vertex2)\n",
        "            if vertex1 in self.adj_list[vertex2]:\n",
        "                self.adj_list[vertex2].remove(vertex1)\n",
        "\n",
        "    def get_neighbors(self,vertex):\n",
        "        if vertex in self.adj_list:\n",
        "            return self.adj_list[vertex]\n",
        "        else:\n",
        "            return []\n",
        "    def print_out(self):\n",
        "        for vertic in vertex:\n",
        "            if vertic in self.adj_list:\n",
        "                print(vertic,\":\",self.adj_list[vertic])\n",
        "            else:\n",
        "                print(vertic,\":\",\"[]\")\n",
        "\n",
        "# Example usage\n",
        "# graph = Graph()\n",
        "# vertex = ['a', 'b', 'f', 'c']\n",
        "# edge = [('a', 'd'), ('c','d', 'b'), ('c', 'f')]\n",
        "# graph.add_vertex(vertex)\n",
        "# for e in edge:\n",
        "#     graph.add_edge(*e)\n",
        "# print(graph.get_neighbors(vertex))\n",
        "# print(graph.get_neighbors('g'))\n",
        "\n",
        "graph = Graph()\n",
        "vertex = ['a', 'b', 'f', 'g']\n",
        "edge = [('a', 'd'), ('g', 'b'), ('c', 'f')]\n",
        "graph.add_vertex(vertex)\n",
        "for e in edge:\n",
        "    graph.add_edge(*e)\n",
        "\n",
        "# Test get_neighbors method\n",
        "assert graph.get_neighbors('a') == ['d'] ,\"i guess you missed something ,check again\"\n",
        "assert graph.get_neighbors('b') == ['g']\n",
        "assert graph.get_neighbors('c') == ['f']\n",
        "assert graph.get_neighbors('d') == ['a']\n",
        "assert graph.get_neighbors('f') == ['c']\n",
        "assert graph.get_neighbors('g') == ['b']\n",
        "\n",
        "# Test remove_edge method\n",
        "graph.remove_edge('a', 'd')\n",
        "graph.remove_edge('c', 'f')\n",
        "assert graph.get_neighbors('a') == []\n",
        "assert graph.get_neighbors('d') == []\n",
        "assert graph.get_neighbors('c') == []\n",
        "assert graph.get_neighbors('f') == []\n",
        "assert graph.get_neighbors('g') == ['b']\n",
        "\n",
        "# Test remove_vertex method\n",
        "graph.remove_vertex('b')\n",
        "graph.remove_vertex('f')\n",
        "assert graph.get_neighbors('a') == []\n",
        "assert graph.get_neighbors('c') == []\n",
        "assert graph.get_neighbors('d') == []\n",
        "assert graph.get_neighbors('g') == []\n",
        "assert 'b' not in graph.adj_list\n",
        "graph.print_out()\n",
        "# assert 'f' not in graph.adj_list\n",
        "\n",
        "# Test add_vertex method\n",
        "graph.add_vertex(['x', 'y'])\n",
        "assert graph.get_neighbors('x') == []\n",
        "assert graph.get_neighbors('y') == []\n",
        "\n",
        "# Test add_edge method\n",
        "graph.add_edge('x', 'y')\n",
        "vertex.append('x')\n",
        "vertex.append('y')\n",
        "edge.append(('x','y'))\n",
        "assert graph.get_neighbors('x') == ['y']\n",
        "assert graph.get_neighbors('y') == ['x']\n",
        "\n",
        "print(\"All test cases passed\")\n",
        "graph.print_out()"
      ]
    },
    {
      "cell_type": "markdown",
      "source": [
        "##**Tree** Traversing using **BFS**,**DFS** **algorithm**\n",
        "\n",
        "> BFS\n",
        "\n",
        "BFS is a graph traversal algorithm that visits all the vertices of a graph in breadth-first order. Starting from a given vertex, BFS explores all of its neighbors before moving on to the next level of vertices. This algorithm is often used to find the shortest path between two vertices in an unweighted graph, and to find all vertices connected to a given vertex in a connected graph.\n"
      ],
      "metadata": {
        "id": "VRCYl47G7YUw"
      }
    },
    {
      "cell_type": "code",
      "source": [
        "from collection import deque\n",
        "class demo_repo(Graph):\n",
        "  def dfs(self,start):\n",
        "    \n",
        "\n"
      ],
      "metadata": {
        "id": "IwWm7Ntu7WGc"
      },
      "execution_count": null,
      "outputs": []
    }
  ]
}